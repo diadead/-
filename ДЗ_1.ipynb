{
  "nbformat": 4,
  "nbformat_minor": 0,
  "metadata": {
    "kernelspec": {
      "display_name": "Python 3",
      "language": "python",
      "name": "python3"
    },
    "language_info": {
      "codemirror_mode": {
        "name": "ipython",
        "version": 3
      },
      "file_extension": ".py",
      "mimetype": "text/x-python",
      "name": "python",
      "nbconvert_exporter": "python",
      "pygments_lexer": "ipython3",
      "version": "3.8.2"
    },
    "colab": {
      "name": "ДЗ-1.ipynb",
      "provenance": [],
      "collapsed_sections": []
    }
  },
  "cells": [
    {
      "cell_type": "markdown",
      "metadata": {
        "id": "s3d60DiPBiZY"
      },
      "source": [
        "## Задание 1: (условия if-elif-else)\n",
        "\n",
        "В ячейке ниже - код \"определителя усталости\". Давайте его улучшим:\n",
        "\n",
        "- добавьте условие для случаев,если пользователь вводит число больше 10\n",
        "\n",
        "- добавьте еще одно или два условия, чтобы разделение на категории усталости было еще точнее\n",
        "\n",
        "Подсказка: может помочь нарисовать себе схему условий на бумаге\n"
      ]
    },
    {
      "cell_type": "code",
      "metadata": {
        "colab": {
          "base_uri": "https://localhost:8080/"
        },
        "id": "rZewOJ49BiZg",
        "outputId": "a01cf32e-8af6-4d90-a9a1-2f2fe1290e89"
      },
      "source": [
        "# определитель усталости\n",
        "\n",
        "a = float(input('по шкале от 0 до 10, напишите, насколько Вы устали: '))\n",
        "if a < 0.7:\n",
        "    print('Кажется, Вы совсем не устали')\n",
        "elif 0.7 <= a <= 4.8:\n",
        "    print('Вы немного устали')\n",
        "# Ваш код дальше:\n",
        "elif a > 10:\n",
        "    print('Пора спать!')\n",
        "elif 4.8 < a <= 8.3:\n",
        "    print('Вам стоит отдохнуть:)')\n",
        "elif 8.3 < a <= 10:\n",
        "    print('Направляйтесь в кровать;)')"
      ],
      "execution_count": null,
      "outputs": [
        {
          "output_type": "stream",
          "name": "stdout",
          "text": [
            "по шкале от 0 до 10, напишите, насколько Вы устали: 9\n",
            "Направляйтесь в кровать;)\n"
          ]
        }
      ]
    },
    {
      "cell_type": "markdown",
      "metadata": {
        "id": "8eN51Od9BiZk"
      },
      "source": [
        "### Задача 2 (списки и циклы)\n",
        "Робот, выбирающий пользователю коктейль:\n",
        "\n",
        "Представьте, что Вы разрабатываете (фрагмент) электронного помощника для ресторана. \n",
        "\n",
        "У Вас есть список коктейлей, где каждый коктейль представлен в виде списка ингридиентов (у нас получается список списков). Программа рандомным образом должна выбрать один из коктейлей (т.е. один из списков в общем списке) и вывести на экран сообщение: \"Сегодня в вашем коктейле будет: \" и сам список ингридиентов\n",
        "\n",
        "Но есть одно условие: в некоторые из списков по ошибке попал \"лосось\". Строку \"лосось\" нужно убрать *(здесь вам поможет один метод работы со списками)* ,но так как лосось есть не везде, нужно предварительно проверить его наличие в списке."
      ]
    },
    {
      "cell_type": "code",
      "metadata": {
        "colab": {
          "base_uri": "https://localhost:8080/"
        },
        "id": "cTuAS2vaRSOb",
        "outputId": "59e777d2-6bda-41bb-b293-1139fc77a8bc"
      },
      "source": [
        "import random\n",
        "\n",
        "cocktails = [\n",
        "    [\"мартини\",\"грейпфрутовый сок\",\"жасмин\",\"тоник\",\"лосось\"],\n",
        "    [\"клубника\",\"какао\",\"мята\",\"марсала\"],\n",
        "    [\"водка\",\"томатный сок\",\"лимонный сок\",\"вустерширский соус\",\"черный перец\",\"сельдерей\",\"лосось\"],\n",
        "    [\"джин\",\"вермут\",\"ликер мараскино\",\"апельсины\",\"коктейльная вишня\",\"лосось\"],\n",
        "    [\"ром\",\"авокадо\",\"сахарный сироп\",\"сливки\",\"лимонный сок\",\"лед\"],\n",
        "    [\"красный вермут\",\"тоник\",\"апельсины\",\"лосось\"],\n",
        "    [\"только чай\"]\n",
        "        ]\n",
        "\n",
        "#Ваш код\n",
        "\n",
        "dr = random.choice(cocktails) \n",
        "phrase = \"Сегодня в вашем коктейле будет: \"    \n",
        "result = phrase,dr\n",
        "item = \"лосось\"\n",
        "if item in dr:\n",
        "   dr.remove(\"лосось\")    \n",
        "print(result)\n",
        "\n",
        "\n"
      ],
      "execution_count": 64,
      "outputs": [
        {
          "output_type": "stream",
          "name": "stdout",
          "text": [
            "('Сегодня в вашем коктейле будет: ', ['мартини', 'грейпфрутовый сок', 'жасмин', 'тоник'])\n"
          ]
        }
      ]
    },
    {
      "cell_type": "code",
      "metadata": {
        "id": "SEI2a4AzxIH1"
      },
      "source": [
        ""
      ],
      "execution_count": null,
      "outputs": []
    },
    {
      "cell_type": "markdown",
      "metadata": {
        "id": "89gPXnd3BiZm"
      },
      "source": [
        "### Задание 3 (словари)"
      ]
    },
    {
      "cell_type": "markdown",
      "metadata": {
        "id": "vxeBe9LIBiZm"
      },
      "source": [
        "Алиса коллекционирует открыткм, которые она получила из разных стран от друзей. Она знает, что Мария прислала ей открытку из Лондона, Лоренцо -- из Милана, Олег - из Канберры, Ханс -- из Кальгари, Марк -- тоже из Милана, Алекс - из Кракова, и совсем недавно пришла открытка от Юлии из Мурманска. \n",
        "\n",
        "Сейчас ее архив выглядит вот так:\n",
        "```\n",
        "postcards = {\n",
        "    \"Maria\":\"London\",\n",
        "    \"Lorenzo\":\"Milan\",\n",
        "    \"Oleg\":\"Canberra\",\n",
        "    \"Hans\":\"Calgary\",\n",
        "    \"Mark\":\"Milan\",\n",
        "    \"Alex\":\"Krakow\",\n",
        "    \"Julia\":\"Murmansk\"\n",
        "    \n",
        "}\n",
        "```\n",
        "\n",
        "Однажды Алиса показала Вам свою бумажную коллекцию, и Вы заметили неточности: \n",
        "\n",
        "- в архиве не хватает двух открыток: от Петры из Парижа и от Ивана из Москвы. Добавьте их в архив Алисы.\n",
        "\n",
        "- открытка, присланная Олегом на самом деле не из Канберры, а из Сиднея.\n",
        "Исправьте город на верный, изменив значение по ключу в словаре.\n",
        "\n",
        "- Алиса говорит, что в ее коллекции более 10 уникальных городов. Сколько их на самом деле? Выведите названия этих городов."
      ]
    },
    {
      "cell_type": "code",
      "metadata": {
        "id": "IPAbwNKxBiZq",
        "colab": {
          "base_uri": "https://localhost:8080/"
        },
        "outputId": "f4ed2b78-cdce-47c6-e7d3-4b2a6309941d"
      },
      "source": [
        "postcards = {\n",
        "    \"Maria\":\"London\",\n",
        "    \"Lorenzo\":\"Milan\",\n",
        "    \"Oleg\":\"Canberra\",\n",
        "    \"Hans\":\"Calgary\",\n",
        "    \"Mark\":\"Milan\",\n",
        "    \"Alex\":\"Krakow\",\n",
        "    \"Julia\":\"Murmansk\"\n",
        "\n",
        "}\n",
        "newpost = {\"Petra\":\"Paris\", \n",
        "           \"Ivan\":\"Moscow\"}\n",
        "postcards.update(newpost)\n",
        "postcards[\"Oleg\"] = \"Sydney\"\n",
        "print(postcards)"
      ],
      "execution_count": 43,
      "outputs": [
        {
          "output_type": "stream",
          "name": "stdout",
          "text": [
            "{'Maria': 'London', 'Lorenzo': 'Milan', 'Oleg': 'Sydney', 'Hans': 'Calgary', 'Mark': 'Milan', 'Alex': 'Krakow', 'Julia': 'Murmansk', 'Petra': 'Paris', 'Ivan': 'Moscow'}\n"
          ]
        }
      ]
    },
    {
      "cell_type": "code",
      "metadata": {
        "id": "W1Yt8uJ_BiZr",
        "colab": {
          "base_uri": "https://localhost:8080/"
        },
        "outputId": "cbb4359e-15fd-4982-a7b5-1b7d5035d494"
      },
      "source": [
        "postcards[\"Oleg\"] = \"Sydney\"\n",
        "print(postcards)"
      ],
      "execution_count": 38,
      "outputs": [
        {
          "output_type": "stream",
          "name": "stdout",
          "text": [
            "{'Maria': 'London', 'Lorenzo': 'Milan', 'Oleg': 'Sydney', 'Hans': 'Calgary', 'Mark': 'Milan', 'Alex': 'Krakow', 'Julia': 'Murmansk', 'Petra': 'Paris', 'Ivan': 'Moscow'}\n"
          ]
        }
      ]
    },
    {
      "cell_type": "code",
      "metadata": {
        "colab": {
          "base_uri": "https://localhost:8080/"
        },
        "id": "HRgXRli7Ccpy",
        "outputId": "4c9eaac2-7e63-4de5-bfba-468eec263577"
      },
      "source": [
        "print(postcards.values())"
      ],
      "execution_count": 45,
      "outputs": [
        {
          "output_type": "stream",
          "name": "stdout",
          "text": [
            "dict_values(['London', 'Milan', 'Sydney', 'Calgary', 'Milan', 'Krakow', 'Murmansk', 'Paris', 'Moscow'])\n"
          ]
        }
      ]
    }
  ]
}